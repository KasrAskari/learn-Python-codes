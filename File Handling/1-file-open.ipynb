{
 "cells": [
  {
   "cell_type": "markdown",
   "metadata": {},
   "source": [
    "# Pyhton File Open\n",
    "- File handling is an important part of any web application.\n",
    "\n",
    "- Python has several functions for creating, reading, updating, and deleting files."
   ]
  },
  {
   "cell_type": "markdown",
   "metadata": {},
   "source": [
    "## File Hnadling\n",
    "- The key function for working with files in Python is the open() function.\n",
    "\n",
    "- The open() function takes two parameters; filename, and mode."
   ]
  },
  {
   "cell_type": "markdown",
   "metadata": {},
   "source": [
    "- There are four different methods (modes) for opening a file:\n",
    "\n",
    "    - \"r\" - Read - Default value. Opens a file for reading, error if the file does not exist\n",
    "\n",
    "    - \"a\" - Append - Opens a file for appending, creates the file if it does not exist\n",
    "\n",
    "    - \"w\" - Write - Opens a file for writing, creates the file if it does not exist\n",
    "\n",
    "    - \"x\" - Create - Creates the specified file, returns an error if the file exists\n"
   ]
  },
  {
   "cell_type": "markdown",
   "metadata": {},
   "source": [
    "- In addition you can specify if the file should be handled as binary or text mode\n",
    "\n",
    "    - \"t\" - Text - Default value. Text mode\n",
    "\n",
    "    - \"b\" - Binary - Binary mode (e.g. images)"
   ]
  },
  {
   "cell_type": "markdown",
   "metadata": {},
   "source": [
    "## Syntax\n",
    "- To open a file for reading it is enough to specify the  name of the file:"
   ]
  },
  {
   "cell_type": "code",
   "execution_count": null,
   "metadata": {},
   "outputs": [],
   "source": [
    "f = open(\"demofile.txt\")"
   ]
  },
  {
   "cell_type": "markdown",
   "metadata": {},
   "source": [
    "- The code above is the same as:"
   ]
  },
  {
   "cell_type": "code",
   "execution_count": null,
   "metadata": {},
   "outputs": [],
   "source": [
    "f = open(\"demofile.txt\", \"rt\")"
   ]
  },
  {
   "cell_type": "markdown",
   "metadata": {},
   "source": [
    "- Because \"r\" for read, and \"t\" for text are the default values, you do not need to specify them."
   ]
  }
 ],
 "metadata": {
  "kernelspec": {
   "display_name": "mymlvenv",
   "language": "python",
   "name": "python3"
  },
  "language_info": {
   "name": "python",
   "version": "3.12.1"
  }
 },
 "nbformat": 4,
 "nbformat_minor": 2
}
