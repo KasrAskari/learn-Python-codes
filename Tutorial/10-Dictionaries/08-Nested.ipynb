{
 "cells": [
  {
   "cell_type": "markdown",
   "metadata": {},
   "source": [
    "## Nested Dictionaries"
   ]
  },
  {
   "cell_type": "code",
   "execution_count": 3,
   "metadata": {},
   "outputs": [
    {
     "name": "stdout",
     "output_type": "stream",
     "text": [
      "child {'name': 'Kasra', 'year': 2000}\n",
      "Mother {'name': 'Masi', 'year': 1975}\n",
      "Father {'name': 'Alireza', 'year': 1968}\n"
     ]
    }
   ],
   "source": [
    "myfamily = {\n",
    "    \"child\": {\n",
    "        \"name\": \"Kasra\",\n",
    "        \"year\": 2000\n",
    "    },\n",
    "    \n",
    "    \"Mother\": {\n",
    "        \"name\": \"Masi\",\n",
    "        \"year\": 1975\n",
    "    },\n",
    "    \n",
    "    \"Father\": {\n",
    "        \"name\": \"Alireza\",\n",
    "        \"year\": 1968\n",
    "    }\n",
    "}\n",
    "\n",
    "# print(myfamily)\n",
    "\n",
    "for x, y in myfamily.items():\n",
    "  print(x, y)"
   ]
  },
  {
   "cell_type": "code",
   "execution_count": 5,
   "metadata": {},
   "outputs": [
    {
     "name": "stdout",
     "output_type": "stream",
     "text": [
      "Child {'name': 'Kasra', 'year': 2000}\n",
      "Mother {'name': 'Masi', 'year': 1975}\n",
      "Father {'name': 'Alireza', 'year': 1968}\n"
     ]
    }
   ],
   "source": [
    "Child = {\n",
    "  \"name\" : \"Kasra\",\n",
    "  \"year\" : 2000\n",
    "}\n",
    "Mother = {\n",
    "  \"name\" : \"Masi\",\n",
    "  \"year\" : 1975\n",
    "}\n",
    "Father = {\n",
    "  \"name\" : \"Alireza\",\n",
    "  \"year\" : 1968\n",
    "}\n",
    "\n",
    "myfamily = {\n",
    "  \"Child\" : Child,\n",
    "  \"Mother\" : Mother,\n",
    "  \"Father\" : Father\n",
    "}\n",
    "\n",
    "# print(myfamily)\n",
    "\n",
    "for x, y in myfamily.items():\n",
    "  print(x, y)"
   ]
  },
  {
   "cell_type": "markdown",
   "metadata": {},
   "source": [
    "## Access Items"
   ]
  },
  {
   "cell_type": "code",
   "execution_count": 7,
   "metadata": {},
   "outputs": [
    {
     "name": "stdout",
     "output_type": "stream",
     "text": [
      "2000\n"
     ]
    }
   ],
   "source": [
    "myfamily = {\n",
    "    \"Child\": {\n",
    "        \"name\": \"Kasra\",\n",
    "        \"year\": 2000\n",
    "    },\n",
    "    \n",
    "    \"Mother\": {\n",
    "        \"name\": \"Masi\",\n",
    "        \"year\": 1975\n",
    "    },\n",
    "    \n",
    "    \"Father\": {\n",
    "        \"name\": \"Alireza\",\n",
    "        \"year\": 1968\n",
    "    }\n",
    "}\n",
    "\n",
    "print(myfamily[\"Child\"][\"year\"])"
   ]
  },
  {
   "cell_type": "markdown",
   "metadata": {},
   "source": [
    "## Loop Through"
   ]
  },
  {
   "cell_type": "code",
   "execution_count": 8,
   "metadata": {},
   "outputs": [
    {
     "name": "stdout",
     "output_type": "stream",
     "text": [
      "child\n",
      "name: Kasra\n",
      "year: 2000\n",
      "Mother\n",
      "name: Masi\n",
      "year: 1975\n",
      "Father\n",
      "name: Alireza\n",
      "year: 1968\n"
     ]
    }
   ],
   "source": [
    "myfamily = {\n",
    "    \"child\": {\n",
    "        \"name\": \"Kasra\",\n",
    "        \"year\": 2000\n",
    "    },\n",
    "    \n",
    "    \"Mother\": {\n",
    "        \"name\": \"Masi\",\n",
    "        \"year\": 1975\n",
    "    },\n",
    "    \n",
    "    \"Father\": {\n",
    "        \"name\": \"Alireza\",\n",
    "        \"year\": 1968\n",
    "    }\n",
    "}\n",
    "\n",
    "for x, obj in myfamily.items():\n",
    "    print(x)\n",
    "    \n",
    "    for y in obj:\n",
    "        print(y + ':', obj[y])"
   ]
  }
 ],
 "metadata": {
  "kernelspec": {
   "display_name": "myvenv",
   "language": "python",
   "name": "python3"
  },
  "language_info": {
   "codemirror_mode": {
    "name": "ipython",
    "version": 3
   },
   "file_extension": ".py",
   "mimetype": "text/x-python",
   "name": "python",
   "nbconvert_exporter": "python",
   "pygments_lexer": "ipython3",
   "version": "3.12.1"
  }
 },
 "nbformat": 4,
 "nbformat_minor": 2
}
