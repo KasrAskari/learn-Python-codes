{
 "cells": [
  {
   "cell_type": "markdown",
   "metadata": {},
   "source": [
    "## Accessing Items"
   ]
  },
  {
   "cell_type": "code",
   "execution_count": 4,
   "metadata": {},
   "outputs": [
    {
     "name": "stdout",
     "output_type": "stream",
     "text": [
      "sls amg\n"
     ]
    }
   ],
   "source": [
    "thisdict = {\n",
    "    \"brand\": \"Mercedes\",\n",
    "    \"model\": \"sls amg\",\n",
    "    \"year\": 2018\n",
    "}\n",
    "\n",
    "x = thisdict[\"model\"]\n",
    "print(x)"
   ]
  },
  {
   "cell_type": "markdown",
   "metadata": {},
   "source": [
    "- There is also a method called get() that will give you the same result:"
   ]
  },
  {
   "cell_type": "code",
   "execution_count": 5,
   "metadata": {},
   "outputs": [
    {
     "name": "stdout",
     "output_type": "stream",
     "text": [
      "Mercedes\n"
     ]
    }
   ],
   "source": [
    "thisdict = {\n",
    "    \"brand\": \"Mercedes\",\n",
    "    \"model\": \"sls amg\",\n",
    "    \"year\": 2018\n",
    "}\n",
    "\n",
    "x = thisdict.get(\"brand\")\n",
    "print(x)"
   ]
  },
  {
   "cell_type": "markdown",
   "metadata": {},
   "source": [
    "## Get Keys"
   ]
  },
  {
   "cell_type": "code",
   "execution_count": 7,
   "metadata": {},
   "outputs": [
    {
     "name": "stdout",
     "output_type": "stream",
     "text": [
      "dict_keys(['brand', 'model', 'year'])\n"
     ]
    }
   ],
   "source": [
    "thisdict = {\n",
    "    \"brand\": \"Mercedes\",\n",
    "    \"model\": \"sls amg\",\n",
    "    \"year\": 2018\n",
    "}\n",
    "\n",
    "x = thisdict.keys()\n",
    "print(x)"
   ]
  },
  {
   "cell_type": "markdown",
   "metadata": {},
   "source": [
    "- Add a new item to the original dictionary, and see that the keys list gets updated as well:"
   ]
  },
  {
   "cell_type": "code",
   "execution_count": 9,
   "metadata": {},
   "outputs": [
    {
     "name": "stdout",
     "output_type": "stream",
     "text": [
      "dict_keys(['brand', 'model', 'year'])\n",
      "dict_keys(['brand', 'model', 'year', 'color'])\n"
     ]
    }
   ],
   "source": [
    "car = {\n",
    "    \"brand\": \"Mercedes\",\n",
    "    \"model\": \"sls amg\",\n",
    "    \"year\": 2018\n",
    "}\n",
    "\n",
    "x = car.keys()\n",
    "print(x) #before the change\n",
    "\n",
    "car[\"color\"] = \"white\"\n",
    "print(x) #after the change"
   ]
  },
  {
   "cell_type": "markdown",
   "metadata": {},
   "source": [
    "## Get Values"
   ]
  },
  {
   "cell_type": "code",
   "execution_count": 10,
   "metadata": {},
   "outputs": [
    {
     "name": "stdout",
     "output_type": "stream",
     "text": [
      "dict_values(['Mercedes', 'sls amg', 2018])\n"
     ]
    }
   ],
   "source": [
    "thisdict = {\n",
    "    \"brand\": \"Mercedes\",\n",
    "    \"model\": \"sls amg\",\n",
    "    \"year\": 2018\n",
    "}\n",
    "\n",
    "x = thisdict.values()\n",
    "print(x)"
   ]
  },
  {
   "cell_type": "markdown",
   "metadata": {},
   "source": [
    "- Make a change in the original dictionary, and see that the values list gets updated as well:"
   ]
  },
  {
   "cell_type": "code",
   "execution_count": 13,
   "metadata": {},
   "outputs": [
    {
     "name": "stdout",
     "output_type": "stream",
     "text": [
      "dict_values(['Mercedes', 'sls amg', 2018])\n",
      "dict_values(['Mercedes', 'sls amg', 2024])\n"
     ]
    }
   ],
   "source": [
    "car = {\n",
    "    \"brand\": \"Mercedes\",\n",
    "    \"model\": \"sls amg\",\n",
    "    \"year\": 2018\n",
    "}\n",
    "\n",
    "x = car.values()\n",
    "print(x) #before the change\n",
    "\n",
    "car[\"year\"] = 2024\n",
    "print(x) #after the change"
   ]
  },
  {
   "cell_type": "markdown",
   "metadata": {},
   "source": [
    "- Add a new item to the original dictionary, and see that the values list gets updated as well"
   ]
  },
  {
   "cell_type": "code",
   "execution_count": 15,
   "metadata": {},
   "outputs": [
    {
     "name": "stdout",
     "output_type": "stream",
     "text": [
      "dict_values(['Mercedes', 'sls amg', 2018])\n",
      "dict_values(['Mercedes', 'sls amg', 2018, 'red'])\n"
     ]
    }
   ],
   "source": [
    "car = {\n",
    "    \"brand\": \"Mercedes\",\n",
    "    \"model\": \"sls amg\",\n",
    "    \"year\": 2018\n",
    "}\n",
    "\n",
    "x = car.values()\n",
    "print(x) #before the change\n",
    "\n",
    "car[\"color\"] = \"red\"\n",
    "print(x) #after the change"
   ]
  },
  {
   "cell_type": "markdown",
   "metadata": {},
   "source": [
    "## Get Items"
   ]
  },
  {
   "cell_type": "markdown",
   "metadata": {},
   "source": [
    "- The items() method will return each item in a dictionary, as tuples in a list."
   ]
  },
  {
   "cell_type": "code",
   "execution_count": 16,
   "metadata": {},
   "outputs": [
    {
     "name": "stdout",
     "output_type": "stream",
     "text": [
      "dict_items([('brand', 'Mercedes'), ('model', 'sls amg'), ('year', 2018)])\n"
     ]
    }
   ],
   "source": [
    "mycar = {\n",
    "    \"brand\": \"Mercedes\",\n",
    "    \"model\": \"sls amg\",\n",
    "    \"year\": 2018\n",
    "}\n",
    "\n",
    "x = thisdict.items()\n",
    "print(x)"
   ]
  },
  {
   "cell_type": "markdown",
   "metadata": {},
   "source": [
    "- Make a change in the original dictionary, and see that the items list gets updated as well:"
   ]
  },
  {
   "cell_type": "code",
   "execution_count": 17,
   "metadata": {},
   "outputs": [
    {
     "name": "stdout",
     "output_type": "stream",
     "text": [
      "dict_items([('brand', 'Mercedes'), ('model', 'sls amg'), ('year', 2018)])\n",
      "dict_items([('brand', 'Mercedes'), ('model', 'sls amg'), ('year', 2024)])\n"
     ]
    }
   ],
   "source": [
    "mycar = {\n",
    "    \"brand\": \"Mercedes\",\n",
    "    \"model\": \"sls amg\",\n",
    "    \"year\": 2018\n",
    "}\n",
    "\n",
    "x = mycar.items()\n",
    "print(x) #before the change\n",
    "\n",
    "mycar[\"year\"] = 2024\n",
    "print(x) #after the change"
   ]
  },
  {
   "cell_type": "markdown",
   "metadata": {},
   "source": [
    "- Add a new item to the original dictionary, and see that the items list gets updated as well:"
   ]
  },
  {
   "cell_type": "code",
   "execution_count": 18,
   "metadata": {},
   "outputs": [
    {
     "name": "stdout",
     "output_type": "stream",
     "text": [
      "dict_items([('brand', 'Mercedes'), ('model', 'sls amg'), ('year', 2018)])\n",
      "dict_items([('brand', 'Mercedes'), ('model', 'sls amg'), ('year', 2018), ('color', 'red')])\n"
     ]
    }
   ],
   "source": [
    "mycar = {\n",
    "    \"brand\": \"Mercedes\",\n",
    "    \"model\": \"sls amg\",\n",
    "    \"year\": 2018\n",
    "}\n",
    "\n",
    "x = mycar.items()\n",
    "print(x) #before the change\n",
    "\n",
    "mycar[\"color\"] = \"red\"\n",
    "print(x) #after the change"
   ]
  },
  {
   "cell_type": "markdown",
   "metadata": {},
   "source": [
    "## Check if Key Exists"
   ]
  },
  {
   "cell_type": "code",
   "execution_count": 21,
   "metadata": {},
   "outputs": [
    {
     "name": "stdout",
     "output_type": "stream",
     "text": [
      "YEP, that's my car :)\n"
     ]
    }
   ],
   "source": [
    "mycar = {\n",
    "    \"brand\": \"Mercedes\",\n",
    "    \"model\": \"sls amg\",\n",
    "    \"year\": 2018\n",
    "}\n",
    "\n",
    "if \"model\" in mycar:\n",
    "    print(\"YEP, that's my car :)\")"
   ]
  }
 ],
 "metadata": {
  "kernelspec": {
   "display_name": "mymlvenv",
   "language": "python",
   "name": "python3"
  },
  "language_info": {
   "codemirror_mode": {
    "name": "ipython",
    "version": 3
   },
   "file_extension": ".py",
   "mimetype": "text/x-python",
   "name": "python",
   "nbconvert_exporter": "python",
   "pygments_lexer": "ipython3",
   "version": "3.12.1"
  }
 },
 "nbformat": 4,
 "nbformat_minor": 2
}
