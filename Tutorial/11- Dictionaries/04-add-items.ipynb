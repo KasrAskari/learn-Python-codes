{
 "cells": [
  {
   "cell_type": "markdown",
   "metadata": {},
   "source": [
    "## Adding Items"
   ]
  },
  {
   "cell_type": "markdown",
   "metadata": {},
   "source": [
    "- Adding an item to the dictionary is done by using a new index key and assigning a value to it:"
   ]
  },
  {
   "cell_type": "code",
   "execution_count": 1,
   "metadata": {},
   "outputs": [
    {
     "name": "stdout",
     "output_type": "stream",
     "text": [
      "{'brand': 'Mercedes', 'model': 'SLS Amg', 'year': 2018, 'color': 'red'}\n"
     ]
    }
   ],
   "source": [
    "mycar = {\n",
    "    \"brand\": \"Mercedes\",\n",
    "    \"model\": \"SLS Amg\",\n",
    "    \"year\": 2018\n",
    "}\n",
    "\n",
    "mycar[\"color\"] = \"red\"\n",
    "print(mycar)"
   ]
  },
  {
   "cell_type": "markdown",
   "metadata": {},
   "source": [
    "## Update Dictionary"
   ]
  },
  {
   "cell_type": "markdown",
   "metadata": {},
   "source": [
    "- Add a color item to the dictionary by using the update() method:"
   ]
  },
  {
   "cell_type": "code",
   "execution_count": 2,
   "metadata": {},
   "outputs": [
    {
     "name": "stdout",
     "output_type": "stream",
     "text": [
      "{'brand': 'Mercedes', 'model': 'SLS Amg', 'year': 2018, 'color': 'red'}\n"
     ]
    }
   ],
   "source": [
    "mycar = {\n",
    "    \"brand\": \"Mercedes\",\n",
    "    \"model\": \"SLS Amg\",\n",
    "    \"year\": 2018\n",
    "}\n",
    "\n",
    "mycar.update({\"color\": \"red\"})\n",
    "print(mycar)"
   ]
  }
 ],
 "metadata": {
  "kernelspec": {
   "display_name": "mymlvenv",
   "language": "python",
   "name": "python3"
  },
  "language_info": {
   "codemirror_mode": {
    "name": "ipython",
    "version": 3
   },
   "file_extension": ".py",
   "mimetype": "text/x-python",
   "name": "python",
   "nbconvert_exporter": "python",
   "pygments_lexer": "ipython3",
   "version": "3.12.1"
  }
 },
 "nbformat": 4,
 "nbformat_minor": 2
}
