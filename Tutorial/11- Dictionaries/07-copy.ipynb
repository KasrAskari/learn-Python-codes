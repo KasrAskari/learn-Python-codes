{
 "cells": [
  {
   "cell_type": "markdown",
   "metadata": {},
   "source": [
    "## Copy a Dictionary"
   ]
  },
  {
   "cell_type": "markdown",
   "metadata": {},
   "source": [
    "- Make a copy of a dictionary with the copy() method:"
   ]
  },
  {
   "cell_type": "code",
   "execution_count": 2,
   "metadata": {},
   "outputs": [
    {
     "name": "stdout",
     "output_type": "stream",
     "text": [
      "{'brand': 'Mercedes', 'model': 'SLS Amg', 'year': 2018}\n"
     ]
    }
   ],
   "source": [
    "mycar = {\n",
    "    \"brand\": \"Mercedes\",\n",
    "    \"model\": \"SLS Amg\",\n",
    "    \"year\": 2018\n",
    "}\n",
    "\n",
    "thiscar = mycar.copy()\n",
    "print(thiscar)"
   ]
  },
  {
   "cell_type": "markdown",
   "metadata": {},
   "source": [
    "- Make a copy of a dictionary with the dict() function:"
   ]
  },
  {
   "cell_type": "code",
   "execution_count": 3,
   "metadata": {},
   "outputs": [
    {
     "name": "stdout",
     "output_type": "stream",
     "text": [
      "{'brand': 'Mercedes', 'model': 'SLS Amg', 'year': 2018}\n"
     ]
    }
   ],
   "source": [
    "mycar = {\n",
    "    \"brand\": \"Mercedes\",\n",
    "    \"model\": \"SLS Amg\",\n",
    "    \"year\": 2018\n",
    "}\n",
    "\n",
    "thiscar = dict(mycar)\n",
    "print(thiscar)"
   ]
  }
 ],
 "metadata": {
  "kernelspec": {
   "display_name": "mymlvenv",
   "language": "python",
   "name": "python3"
  },
  "language_info": {
   "codemirror_mode": {
    "name": "ipython",
    "version": 3
   },
   "file_extension": ".py",
   "mimetype": "text/x-python",
   "name": "python",
   "nbconvert_exporter": "python",
   "pygments_lexer": "ipython3",
   "version": "3.12.1"
  }
 },
 "nbformat": 4,
 "nbformat_minor": 2
}
