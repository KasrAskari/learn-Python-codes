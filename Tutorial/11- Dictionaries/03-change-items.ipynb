{
 "cells": [
  {
   "cell_type": "markdown",
   "metadata": {},
   "source": [
    "## Change Values"
   ]
  },
  {
   "cell_type": "markdown",
   "metadata": {},
   "source": [
    "- You can change the value of a specific item by referring to its key name:"
   ]
  },
  {
   "cell_type": "code",
   "execution_count": 1,
   "metadata": {},
   "outputs": [
    {
     "name": "stdout",
     "output_type": "stream",
     "text": [
      "{'brand': 'Mercedes', 'model': 'sls amg', 'year': 2024}\n"
     ]
    }
   ],
   "source": [
    "mycar = {\n",
    "    \"brand\": \"Mercedes\",\n",
    "    \"model\": \"sls amg\",\n",
    "    \"year\": 2018\n",
    "}\n",
    "\n",
    "mycar[\"year\"] = 2024\n",
    "print(mycar)"
   ]
  },
  {
   "cell_type": "markdown",
   "metadata": {},
   "source": [
    "## Update Dictionary"
   ]
  },
  {
   "cell_type": "markdown",
   "metadata": {},
   "source": [
    "- Update the \"year\" of the car by using the update() method:"
   ]
  },
  {
   "cell_type": "code",
   "execution_count": 2,
   "metadata": {},
   "outputs": [
    {
     "name": "stdout",
     "output_type": "stream",
     "text": [
      "{'brand': 'Mercedes', 'model': 'sls amg', 'year': 2024}\n"
     ]
    }
   ],
   "source": [
    "mycar = {\n",
    "    \"brand\": \"Mercedes\",\n",
    "    \"model\": \"sls amg\",\n",
    "    \"year\": 2018\n",
    "}\n",
    "\n",
    "mycar.update({\"year\": 2024})\n",
    "print(mycar)"
   ]
  }
 ],
 "metadata": {
  "kernelspec": {
   "display_name": "mymlvenv",
   "language": "python",
   "name": "python3"
  },
  "language_info": {
   "codemirror_mode": {
    "name": "ipython",
    "version": 3
   },
   "file_extension": ".py",
   "mimetype": "text/x-python",
   "name": "python",
   "nbconvert_exporter": "python",
   "pygments_lexer": "ipython3",
   "version": "3.12.1"
  }
 },
 "nbformat": 4,
 "nbformat_minor": 2
}
