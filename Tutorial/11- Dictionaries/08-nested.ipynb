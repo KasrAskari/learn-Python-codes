{
 "cells": [
  {
   "cell_type": "markdown",
   "metadata": {},
   "source": [
    "## Nested Dictionaries"
   ]
  },
  {
   "cell_type": "markdown",
   "metadata": {},
   "source": [
    "- Create a dictionary that contain three dictionaries:"
   ]
  },
  {
   "cell_type": "code",
   "execution_count": 2,
   "metadata": {},
   "outputs": [
    {
     "name": "stdout",
     "output_type": "stream",
     "text": [
      "{'father': {'name': 'Alireza', 'year': 1968}, 'mother': {'name': 'Masi', 'year': 1975}, 'child': {'name': 'Kasra', 'year': 2000}}\n"
     ]
    }
   ],
   "source": [
    "myfamily = {\n",
    "    \n",
    "    \"father\" : {\n",
    "        \"name\": \"Alireza\",\n",
    "        \"year\": 1968\n",
    "    },\n",
    "    \n",
    "    \"mother\" : {\n",
    "        \"name\": \"Masi\",\n",
    "        \"year\": 1975\n",
    "    },\n",
    "    \n",
    "    \"child\" : {\n",
    "        \"name\": \"Kasra\",\n",
    "        \"year\": 2000\n",
    "    }\n",
    "}\n",
    "\n",
    "print(myfamily)"
   ]
  },
  {
   "cell_type": "markdown",
   "metadata": {},
   "source": [
    "- Create three dictionaries, then create one dictionary that will contain the other three dictionaries:"
   ]
  },
  {
   "cell_type": "code",
   "execution_count": 8,
   "metadata": {},
   "outputs": [
    {
     "name": "stdout",
     "output_type": "stream",
     "text": [
      "{'father': {'name': 'Alireza', 'year': 1968}, 'mother': {'name': 'Masi', 'year': 1975}, 'child': {'name': 'Kasra', 'year': 2000}}\n"
     ]
    }
   ],
   "source": [
    "father = {\n",
    "    \"name\": \"Alireza\",\n",
    "    \"year\": 1968\n",
    "}\n",
    "\n",
    "mother = {\n",
    "    \"name\": \"Masi\",\n",
    "    \"year\": 1975\n",
    "}\n",
    "\n",
    "child = {\n",
    "    \"name\": \"Kasra\",\n",
    "    \"year\": 2000\n",
    "}\n",
    "    \n",
    "myfamily = {\n",
    "    \"father\" : father,\n",
    "    \"mother\" : mother,\n",
    "    \"child\" : child\n",
    "}\n",
    "\n",
    "print(myfamily)"
   ]
  },
  {
   "cell_type": "markdown",
   "metadata": {},
   "source": [
    "## Access Items in Nested Dictionaries"
   ]
  },
  {
   "cell_type": "code",
   "execution_count": 10,
   "metadata": {},
   "outputs": [
    {
     "name": "stdout",
     "output_type": "stream",
     "text": [
      "Masi\n"
     ]
    }
   ],
   "source": [
    "myfamily = {\n",
    "    \n",
    "    \"father\" : {\n",
    "        \"name\": \"Alireza\",\n",
    "        \"year\": 1968\n",
    "    },\n",
    "    \n",
    "    \"mother\" : {\n",
    "        \"name\": \"Masi\",\n",
    "        \"year\": 1975\n",
    "    },\n",
    "    \n",
    "    \"child\" : {\n",
    "        \"name\": \"Kasra\",\n",
    "        \"year\": 2000\n",
    "    }\n",
    "}\n",
    "\n",
    "print(myfamily[\"mother\"][\"name\"])"
   ]
  },
  {
   "cell_type": "markdown",
   "metadata": {},
   "source": [
    "## Loop Through Nested Dictionaries"
   ]
  },
  {
   "cell_type": "markdown",
   "metadata": {},
   "source": [
    "- You can loop through a dictionary by using the items() method like this:"
   ]
  },
  {
   "cell_type": "code",
   "execution_count": 19,
   "metadata": {},
   "outputs": [
    {
     "name": "stdout",
     "output_type": "stream",
     "text": [
      "--------------\n",
      "father\n",
      "name: Alireza\n",
      "year: 1968\n",
      "--------------\n",
      "mother\n",
      "name: Masi\n",
      "year: 1975\n",
      "--------------\n",
      "child\n",
      "name: Kasra\n",
      "year: 2000\n"
     ]
    }
   ],
   "source": [
    "myfamily = {\n",
    "    \n",
    "    \"father\" : {\n",
    "        \"name\": \"Alireza\",\n",
    "        \"year\": 1968\n",
    "    },\n",
    "    \n",
    "    \"mother\" : {\n",
    "        \"name\": \"Masi\",\n",
    "        \"year\": 1975\n",
    "    },\n",
    "    \n",
    "    \"child\" : {\n",
    "        \"name\": \"Kasra\",\n",
    "        \"year\": 2000\n",
    "    }\n",
    "}\n",
    "\n",
    "for x, obj in myfamily.items():\n",
    "    print(\"--------------\")\n",
    "    print(x)\n",
    "    \n",
    "    for y in obj:\n",
    "        print(y + ':', obj[y])"
   ]
  }
 ],
 "metadata": {
  "kernelspec": {
   "display_name": "mymlvenv",
   "language": "python",
   "name": "python3"
  },
  "language_info": {
   "codemirror_mode": {
    "name": "ipython",
    "version": 3
   },
   "file_extension": ".py",
   "mimetype": "text/x-python",
   "name": "python",
   "nbconvert_exporter": "python",
   "pygments_lexer": "ipython3",
   "version": "3.12.1"
  }
 },
 "nbformat": 4,
 "nbformat_minor": 2
}
