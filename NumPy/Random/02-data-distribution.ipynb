{
 "cells": [
  {
   "cell_type": "markdown",
   "metadata": {},
   "source": [
    "# Random Data Distribution"
   ]
  },
  {
   "cell_type": "markdown",
   "metadata": {},
   "source": [
    "## What is Data Distribution?\n",
    "- Data Distribution is a list of all possible values, and how often each value occurs.\n",
    "\n",
    "- Such lists are important when working with statistics and data science.\n",
    "\n",
    "- The random module offer methods that returns randomly generated data distributions."
   ]
  },
  {
   "cell_type": "code",
   "execution_count": 1,
   "metadata": {},
   "outputs": [],
   "source": [
    "from numpy import random"
   ]
  },
  {
   "cell_type": "markdown",
   "metadata": {},
   "source": [
    "- Generate a 1-D array containing 100 values, where each value has to be 3, 5, 7 or 9.\n",
    "\n",
    "- The probability for the value to be 3 is set to be 0.1\n",
    "\n",
    "- The probability for the value to be 5 is set to be 0.3\n",
    "\n",
    "- The probability for the value to be 7 is set to be 0.6\n",
    "\n",
    "- The probability for the value to be 9 is set to be 0"
   ]
  },
  {
   "cell_type": "code",
   "execution_count": 3,
   "metadata": {},
   "outputs": [
    {
     "name": "stdout",
     "output_type": "stream",
     "text": [
      "[2 4 4 6 6 6 4 6 6 4 6 6 2 6 4 4 4 6 6 6 4 4 6 6 2 6 6 4 6 6 6 6 6 4 4 4 6\n",
      " 6 2 6 6 6 6 4 4 6 4 6 2 4 6 6 6 4 4 4 4 6 4 6 6 6 6 2 4 4 6 6 6 2 4 6 4 4\n",
      " 6 6 6 6 6 4 4 6 6 6 6 6 4 6 6 4 4 6 2 6 4 6 4 6 4 4]\n"
     ]
    }
   ],
   "source": [
    "x = random.choice([2, 4, 6, 8], p=[0.1, 0.3, 0.6, 0.0], size=(100))\n",
    "\n",
    "print(x)"
   ]
  },
  {
   "cell_type": "markdown",
   "metadata": {},
   "source": [
    "- Even if you run the example above 100 times, the value 9 will never occur.\n",
    "\n",
    "- You can return arrays of any shape and size by specifying the shape in the size parameter."
   ]
  },
  {
   "cell_type": "markdown",
   "metadata": {},
   "source": [
    "- Same example as above, but return a 2-D array with 3 rows, each containing 5 values"
   ]
  },
  {
   "cell_type": "code",
   "execution_count": 5,
   "metadata": {},
   "outputs": [
    {
     "name": "stdout",
     "output_type": "stream",
     "text": [
      "[[2 6 6 6 6]\n",
      " [6 6 4 2 6]\n",
      " [4 6 2 4 4]]\n"
     ]
    }
   ],
   "source": [
    "x = random.choice([2, 4, 6, 8], p=[0.1, 0.3, 0.6, 0.0], size=(3, 5))\n",
    "\n",
    "print(x)"
   ]
  }
 ],
 "metadata": {
  "kernelspec": {
   "display_name": "mymlvenv",
   "language": "python",
   "name": "python3"
  },
  "language_info": {
   "codemirror_mode": {
    "name": "ipython",
    "version": 3
   },
   "file_extension": ".py",
   "mimetype": "text/x-python",
   "name": "python",
   "nbconvert_exporter": "python",
   "pygments_lexer": "ipython3",
   "version": "3.12.1"
  }
 },
 "nbformat": 4,
 "nbformat_minor": 2
}
